{
 "cells": [
  {
   "cell_type": "code",
   "execution_count": 1,
   "id": "ac0924ba",
   "metadata": {},
   "outputs": [],
   "source": [
    "import numpy as np"
   ]
  },
  {
   "cell_type": "code",
   "execution_count": 12,
   "id": "146a78d9",
   "metadata": {},
   "outputs": [],
   "source": [
    "# Your task is to use np.loadtxt() function to load the data into a variable. \n",
    "# Answer:\n",
    "matrix = np.loadtxt('diabetes.csv',skiprows = 1,delimiter = ',')\n"
   ]
  },
  {
   "cell_type": "code",
   "execution_count": 13,
   "id": "80437611",
   "metadata": {},
   "outputs": [
    {
     "data": {
      "text/plain": [
       "array([[  6.   , 148.   ,  72.   , ...,   0.627,  50.   ,   1.   ],\n",
       "       [  1.   ,  85.   ,  66.   , ...,   0.351,  31.   ,   0.   ],\n",
       "       [  8.   , 183.   ,  64.   , ...,   0.672,  32.   ,   1.   ],\n",
       "       ...,\n",
       "       [  5.   , 121.   ,  72.   , ...,   0.245,  30.   ,   0.   ],\n",
       "       [  1.   , 126.   ,  60.   , ...,   0.349,  47.   ,   1.   ],\n",
       "       [  1.   ,  93.   ,  70.   , ...,   0.315,  23.   ,   0.   ]])"
      ]
     },
     "execution_count": 13,
     "metadata": {},
     "output_type": "execute_result"
    }
   ],
   "source": [
    "matrix"
   ]
  },
  {
   "cell_type": "code",
   "execution_count": 16,
   "id": "0497fcde",
   "metadata": {},
   "outputs": [
    {
     "data": {
      "text/plain": [
       "(768, 9)"
      ]
     },
     "execution_count": 16,
     "metadata": {},
     "output_type": "execute_result"
    }
   ],
   "source": [
    "# How many patients does the dataset have information about?\n",
    "matrix.shape"
   ]
  },
  {
   "cell_type": "code",
   "execution_count": 18,
   "id": "6e0fbb3a",
   "metadata": {},
   "outputs": [
    {
     "data": {
      "text/plain": [
       "74.0"
      ]
     },
     "execution_count": 18,
     "metadata": {},
     "output_type": "execute_result"
    }
   ],
   "source": [
    "# What is the blood pressure of the patient number 5 (0-indexed)?\n",
    "matrix[5,2]"
   ]
  },
  {
   "cell_type": "code",
   "execution_count": 19,
   "id": "d9c8ee07",
   "metadata": {},
   "outputs": [
    {
     "data": {
      "text/plain": [
       "23.0"
      ]
     },
     "execution_count": 19,
     "metadata": {},
     "output_type": "execute_result"
    }
   ],
   "source": [
    "# What is the age of the patient number 112 (0-indexed)?\n",
    "matrix[112,-2]"
   ]
  },
  {
   "cell_type": "code",
   "execution_count": 20,
   "id": "dd38349e",
   "metadata": {},
   "outputs": [
    {
     "data": {
      "text/plain": [
       "1.0"
      ]
     },
     "execution_count": 20,
     "metadata": {},
     "output_type": "execute_result"
    }
   ],
   "source": [
    "# In this dataset, Outcome = 0 denotes that the patient does not have diabetes. \n",
    "# And Outcome = 1 denotes that the patient has diabetes.\n",
    "\n",
    "# Does patient number 227 (0-indexed) have diabetes?\n",
    "matrix[227,-1]"
   ]
  },
  {
   "cell_type": "code",
   "execution_count": 30,
   "id": "c66beb38",
   "metadata": {},
   "outputs": [
    {
     "name": "stdout",
     "output_type": "stream",
     "text": [
      "268\n"
     ]
    }
   ],
   "source": [
    "# Out of the 768 patients total, how many have diabetes?\n",
    "cnt = 0\n",
    "outcome = matrix[:,-1]\n",
    "for v in outcome:\n",
    "    if v == 1:\n",
    "        cnt+=1\n",
    "print(cnt)"
   ]
  },
  {
   "cell_type": "code",
   "execution_count": 33,
   "id": "3279fc8c",
   "metadata": {},
   "outputs": [
    {
     "name": "stdout",
     "output_type": "stream",
     "text": [
      "374\n"
     ]
    }
   ],
   "source": [
    "# For features Glucose, BloodPressure, SkinThickness, Insulin and BMI \n",
    "# (columns 1, 2, 3, 4 and 5 0-indexed) the values are missing for some of the patients. \n",
    "# Instead of the actual value, the dataset simply has a 0.\n",
    "\n",
    "# For how many patients is the Insulin value missing?\n",
    "missing_insulin = sum(matrix[:,4]==0)\n",
    "print(missing_insulin)"
   ]
  },
  {
   "cell_type": "code",
   "execution_count": 42,
   "id": "35f2730e",
   "metadata": {},
   "outputs": [
    {
     "name": "stdout",
     "output_type": "stream",
     "text": [
      "376\n"
     ]
    }
   ],
   "source": [
    "# For how many patients is at-least one of the features missing?\n",
    "# (Be careful that it is okay for someone to be Pregnant 0 times).\n",
    "print(\n",
    "  sum( \n",
    "    (matrix[:, 1] == 0) | \n",
    "    (matrix[:, 2] == 0) | \n",
    "    (matrix[:, 3] == 0) | \n",
    "    (matrix[:, 4] == 0) | \n",
    "    (matrix[:, 5] == 0) | \n",
    "    (matrix[:, 6] == 0) | \n",
    "    (matrix[:, 7] == 0) \n",
    "  )\n",
    ")"
   ]
  },
  {
   "cell_type": "code",
   "execution_count": 58,
   "id": "00acad45",
   "metadata": {},
   "outputs": [
    {
     "name": "stdout",
     "output_type": "stream",
     "text": [
      "(392, 9)\n"
     ]
    }
   ],
   "source": [
    "# Filter out the dataset so that only the patients who don't have any data missing remain.\n",
    "# You might find the np.logical_not() function useful. Verify that the shape of\n",
    "# the resulting matrix is (392, 9).\n",
    "\n",
    "# For all future questions, use the filtered data.\n",
    "\n",
    "# failed attempts:\n",
    "# data = filter(np.logical_not(matrix),matrix)\n",
    "bad = ( \n",
    "    (matrix[:, 1] == 0) | \n",
    "    (matrix[:, 2] == 0) |\n",
    "    (matrix[:, 3] == 0) |\n",
    "    (matrix[:, 4] == 0) |\n",
    "    (matrix[:, 5] == 0) |\n",
    "    (matrix[:, 6] == 0) |\n",
    "    (matrix[:, 7] == 0)\n",
    ")\n",
    "data = matrix[np.logical_not(bad), :]\n",
    "print(data.shape)"
   ]
  },
  {
   "cell_type": "code",
   "execution_count": 59,
   "id": "e8f1c70c",
   "metadata": {},
   "outputs": [
    {
     "name": "stdout",
     "output_type": "stream",
     "text": [
      "130.0\n"
     ]
    }
   ],
   "source": [
    "# Out of the 392 patients, what is the total number of patients\n",
    "# who have diabetes in the filtered dataset?\n",
    "print(sum(data[:,-1]))"
   ]
  },
  {
   "cell_type": "code",
   "execution_count": 62,
   "id": "228823de",
   "metadata": {},
   "outputs": [
    {
     "data": {
      "text/plain": [
       "122.62755102040816"
      ]
     },
     "execution_count": 62,
     "metadata": {},
     "output_type": "execute_result"
    }
   ],
   "source": [
    "# What is the average glucose level in the filtered dataset?\n",
    "np.mean(data[:,1])"
   ]
  },
  {
   "cell_type": "code",
   "execution_count": 66,
   "id": "454bc29a",
   "metadata": {},
   "outputs": [
    {
     "name": "stdout",
     "output_type": "stream",
     "text": [
      "[  4.46923077 145.19230769  74.07692308  32.96153846 206.84615385\n",
      "  35.77769231   0.62558462  35.93846154   1.        ]\n"
     ]
    }
   ],
   "source": [
    "# What is the average glucose level among the diabetes patients?\n",
    "diabetic = data[ (data[:, 8] == 1) , :]\n",
    "ans = np.mean(diabetic, axis=0)\n",
    "print(ans)"
   ]
  },
  {
   "cell_type": "code",
   "execution_count": 72,
   "id": "a45394ea",
   "metadata": {},
   "outputs": [
    {
     "name": "stdout",
     "output_type": "stream",
     "text": [
      "[[0.000e+00 1.370e+02 4.000e+01 ... 2.288e+00 3.300e+01 1.000e+00]\n",
      " [3.000e+00 7.800e+01 5.000e+01 ... 2.480e-01 2.600e+01 1.000e+00]\n",
      " [2.000e+00 1.970e+02 7.000e+01 ... 1.580e-01 5.300e+01 1.000e+00]\n",
      " ...\n",
      " [3.000e+00 1.870e+02 7.000e+01 ... 4.080e-01 3.600e+01 1.000e+00]\n",
      " [0.000e+00 1.810e+02 8.800e+01 ... 2.220e-01 2.600e+01 1.000e+00]\n",
      " [1.000e+00 1.280e+02 8.800e+01 ... 1.057e+00 3.700e+01 1.000e+00]]\n"
     ]
    }
   ],
   "source": [
    "print(diabetic)"
   ]
  },
  {
   "cell_type": "code",
   "execution_count": 73,
   "id": "3bcd3d03",
   "metadata": {},
   "outputs": [
    {
     "name": "stdout",
     "output_type": "stream",
     "text": [
      "145.19230769230768\n"
     ]
    }
   ],
   "source": [
    "# ans is actually the  glucose level:\n",
    "print(ans[1])\n",
    "# The mean value was:\n",
    "# 122.62755102040816"
   ]
  },
  {
   "cell_type": "code",
   "execution_count": 81,
   "id": "a39774c4",
   "metadata": {},
   "outputs": [
    {
     "data": {
      "text/plain": [
       "111.43129770992367"
      ]
     },
     "execution_count": 81,
     "metadata": {},
     "output_type": "execute_result"
    }
   ],
   "source": [
    "# What is the average glucose level among the non-diabetic people?\n",
    "non_diabetic = data[data[:,-1] == 0,:]\n",
    "ans = np.mean(non_diabetic,axis=0)[1]\n",
    "ans"
   ]
  },
  {
   "cell_type": "code",
   "execution_count": null,
   "id": "9f947327",
   "metadata": {},
   "outputs": [],
   "source": []
  }
 ],
 "metadata": {
  "kernelspec": {
   "display_name": "Python 3",
   "language": "python",
   "name": "python3"
  },
  "language_info": {
   "codemirror_mode": {
    "name": "ipython",
    "version": 3
   },
   "file_extension": ".py",
   "mimetype": "text/x-python",
   "name": "python",
   "nbconvert_exporter": "python",
   "pygments_lexer": "ipython3",
   "version": "3.9.5"
  }
 },
 "nbformat": 4,
 "nbformat_minor": 5
}
